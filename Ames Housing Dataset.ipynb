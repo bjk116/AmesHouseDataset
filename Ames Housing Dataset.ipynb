{
 "cells": [
  {
   "cell_type": "code",
   "execution_count": 86,
   "metadata": {
    "collapsed": true
   },
   "outputs": [],
   "source": [
    "import numpy as np\n",
    "import pandas as pd"
   ]
  },
  {
   "cell_type": "code",
   "execution_count": 5,
   "metadata": {
    "collapsed": true
   },
   "outputs": [],
   "source": [
    "train = pd.read_csv('train.csv')"
   ]
  },
  {
   "cell_type": "code",
   "execution_count": 214,
   "metadata": {
    "collapsed": true
   },
   "outputs": [],
   "source": [
    "test = pd.read_csv('test.csv')"
   ]
  },
  {
   "cell_type": "code",
   "execution_count": 7,
   "metadata": {},
   "outputs": [
    {
     "data": {
      "text/html": [
       "<div>\n",
       "<style>\n",
       "    .dataframe thead tr:only-child th {\n",
       "        text-align: right;\n",
       "    }\n",
       "\n",
       "    .dataframe thead th {\n",
       "        text-align: left;\n",
       "    }\n",
       "\n",
       "    .dataframe tbody tr th {\n",
       "        vertical-align: top;\n",
       "    }\n",
       "</style>\n",
       "<table border=\"1\" class=\"dataframe\">\n",
       "  <thead>\n",
       "    <tr style=\"text-align: right;\">\n",
       "      <th></th>\n",
       "      <th>Id</th>\n",
       "      <th>MSSubClass</th>\n",
       "      <th>MSZoning</th>\n",
       "      <th>LotFrontage</th>\n",
       "      <th>LotArea</th>\n",
       "      <th>Street</th>\n",
       "      <th>Alley</th>\n",
       "      <th>LotShape</th>\n",
       "      <th>LandContour</th>\n",
       "      <th>Utilities</th>\n",
       "      <th>...</th>\n",
       "      <th>PoolArea</th>\n",
       "      <th>PoolQC</th>\n",
       "      <th>Fence</th>\n",
       "      <th>MiscFeature</th>\n",
       "      <th>MiscVal</th>\n",
       "      <th>MoSold</th>\n",
       "      <th>YrSold</th>\n",
       "      <th>SaleType</th>\n",
       "      <th>SaleCondition</th>\n",
       "      <th>SalePrice</th>\n",
       "    </tr>\n",
       "  </thead>\n",
       "  <tbody>\n",
       "    <tr>\n",
       "      <th>0</th>\n",
       "      <td>1</td>\n",
       "      <td>60</td>\n",
       "      <td>RL</td>\n",
       "      <td>65.0</td>\n",
       "      <td>8450</td>\n",
       "      <td>Pave</td>\n",
       "      <td>NaN</td>\n",
       "      <td>Reg</td>\n",
       "      <td>Lvl</td>\n",
       "      <td>AllPub</td>\n",
       "      <td>...</td>\n",
       "      <td>0</td>\n",
       "      <td>NaN</td>\n",
       "      <td>NaN</td>\n",
       "      <td>NaN</td>\n",
       "      <td>0</td>\n",
       "      <td>2</td>\n",
       "      <td>2008</td>\n",
       "      <td>WD</td>\n",
       "      <td>Normal</td>\n",
       "      <td>208500</td>\n",
       "    </tr>\n",
       "    <tr>\n",
       "      <th>1</th>\n",
       "      <td>2</td>\n",
       "      <td>20</td>\n",
       "      <td>RL</td>\n",
       "      <td>80.0</td>\n",
       "      <td>9600</td>\n",
       "      <td>Pave</td>\n",
       "      <td>NaN</td>\n",
       "      <td>Reg</td>\n",
       "      <td>Lvl</td>\n",
       "      <td>AllPub</td>\n",
       "      <td>...</td>\n",
       "      <td>0</td>\n",
       "      <td>NaN</td>\n",
       "      <td>NaN</td>\n",
       "      <td>NaN</td>\n",
       "      <td>0</td>\n",
       "      <td>5</td>\n",
       "      <td>2007</td>\n",
       "      <td>WD</td>\n",
       "      <td>Normal</td>\n",
       "      <td>181500</td>\n",
       "    </tr>\n",
       "    <tr>\n",
       "      <th>2</th>\n",
       "      <td>3</td>\n",
       "      <td>60</td>\n",
       "      <td>RL</td>\n",
       "      <td>68.0</td>\n",
       "      <td>11250</td>\n",
       "      <td>Pave</td>\n",
       "      <td>NaN</td>\n",
       "      <td>IR1</td>\n",
       "      <td>Lvl</td>\n",
       "      <td>AllPub</td>\n",
       "      <td>...</td>\n",
       "      <td>0</td>\n",
       "      <td>NaN</td>\n",
       "      <td>NaN</td>\n",
       "      <td>NaN</td>\n",
       "      <td>0</td>\n",
       "      <td>9</td>\n",
       "      <td>2008</td>\n",
       "      <td>WD</td>\n",
       "      <td>Normal</td>\n",
       "      <td>223500</td>\n",
       "    </tr>\n",
       "    <tr>\n",
       "      <th>3</th>\n",
       "      <td>4</td>\n",
       "      <td>70</td>\n",
       "      <td>RL</td>\n",
       "      <td>60.0</td>\n",
       "      <td>9550</td>\n",
       "      <td>Pave</td>\n",
       "      <td>NaN</td>\n",
       "      <td>IR1</td>\n",
       "      <td>Lvl</td>\n",
       "      <td>AllPub</td>\n",
       "      <td>...</td>\n",
       "      <td>0</td>\n",
       "      <td>NaN</td>\n",
       "      <td>NaN</td>\n",
       "      <td>NaN</td>\n",
       "      <td>0</td>\n",
       "      <td>2</td>\n",
       "      <td>2006</td>\n",
       "      <td>WD</td>\n",
       "      <td>Abnorml</td>\n",
       "      <td>140000</td>\n",
       "    </tr>\n",
       "    <tr>\n",
       "      <th>4</th>\n",
       "      <td>5</td>\n",
       "      <td>60</td>\n",
       "      <td>RL</td>\n",
       "      <td>84.0</td>\n",
       "      <td>14260</td>\n",
       "      <td>Pave</td>\n",
       "      <td>NaN</td>\n",
       "      <td>IR1</td>\n",
       "      <td>Lvl</td>\n",
       "      <td>AllPub</td>\n",
       "      <td>...</td>\n",
       "      <td>0</td>\n",
       "      <td>NaN</td>\n",
       "      <td>NaN</td>\n",
       "      <td>NaN</td>\n",
       "      <td>0</td>\n",
       "      <td>12</td>\n",
       "      <td>2008</td>\n",
       "      <td>WD</td>\n",
       "      <td>Normal</td>\n",
       "      <td>250000</td>\n",
       "    </tr>\n",
       "  </tbody>\n",
       "</table>\n",
       "<p>5 rows × 81 columns</p>\n",
       "</div>"
      ],
      "text/plain": [
       "   Id  MSSubClass MSZoning  LotFrontage  LotArea Street Alley LotShape  \\\n",
       "0   1          60       RL         65.0     8450   Pave   NaN      Reg   \n",
       "1   2          20       RL         80.0     9600   Pave   NaN      Reg   \n",
       "2   3          60       RL         68.0    11250   Pave   NaN      IR1   \n",
       "3   4          70       RL         60.0     9550   Pave   NaN      IR1   \n",
       "4   5          60       RL         84.0    14260   Pave   NaN      IR1   \n",
       "\n",
       "  LandContour Utilities    ...     PoolArea PoolQC Fence MiscFeature MiscVal  \\\n",
       "0         Lvl    AllPub    ...            0    NaN   NaN         NaN       0   \n",
       "1         Lvl    AllPub    ...            0    NaN   NaN         NaN       0   \n",
       "2         Lvl    AllPub    ...            0    NaN   NaN         NaN       0   \n",
       "3         Lvl    AllPub    ...            0    NaN   NaN         NaN       0   \n",
       "4         Lvl    AllPub    ...            0    NaN   NaN         NaN       0   \n",
       "\n",
       "  MoSold YrSold  SaleType  SaleCondition  SalePrice  \n",
       "0      2   2008        WD         Normal     208500  \n",
       "1      5   2007        WD         Normal     181500  \n",
       "2      9   2008        WD         Normal     223500  \n",
       "3      2   2006        WD        Abnorml     140000  \n",
       "4     12   2008        WD         Normal     250000  \n",
       "\n",
       "[5 rows x 81 columns]"
      ]
     },
     "execution_count": 7,
     "metadata": {},
     "output_type": "execute_result"
    }
   ],
   "source": [
    "train.head()"
   ]
  },
  {
   "cell_type": "code",
   "execution_count": 8,
   "metadata": {},
   "outputs": [
    {
     "name": "stdout",
     "output_type": "stream",
     "text": [
      "<class 'pandas.core.frame.DataFrame'>\n",
      "RangeIndex: 1460 entries, 0 to 1459\n",
      "Data columns (total 81 columns):\n",
      "Id               1460 non-null int64\n",
      "MSSubClass       1460 non-null int64\n",
      "MSZoning         1460 non-null object\n",
      "LotFrontage      1201 non-null float64\n",
      "LotArea          1460 non-null int64\n",
      "Street           1460 non-null object\n",
      "Alley            91 non-null object\n",
      "LotShape         1460 non-null object\n",
      "LandContour      1460 non-null object\n",
      "Utilities        1460 non-null object\n",
      "LotConfig        1460 non-null object\n",
      "LandSlope        1460 non-null object\n",
      "Neighborhood     1460 non-null object\n",
      "Condition1       1460 non-null object\n",
      "Condition2       1460 non-null object\n",
      "BldgType         1460 non-null object\n",
      "HouseStyle       1460 non-null object\n",
      "OverallQual      1460 non-null int64\n",
      "OverallCond      1460 non-null int64\n",
      "YearBuilt        1460 non-null int64\n",
      "YearRemodAdd     1460 non-null int64\n",
      "RoofStyle        1460 non-null object\n",
      "RoofMatl         1460 non-null object\n",
      "Exterior1st      1460 non-null object\n",
      "Exterior2nd      1460 non-null object\n",
      "MasVnrType       1452 non-null object\n",
      "MasVnrArea       1452 non-null float64\n",
      "ExterQual        1460 non-null object\n",
      "ExterCond        1460 non-null object\n",
      "Foundation       1460 non-null object\n",
      "BsmtQual         1423 non-null object\n",
      "BsmtCond         1423 non-null object\n",
      "BsmtExposure     1422 non-null object\n",
      "BsmtFinType1     1423 non-null object\n",
      "BsmtFinSF1       1460 non-null int64\n",
      "BsmtFinType2     1422 non-null object\n",
      "BsmtFinSF2       1460 non-null int64\n",
      "BsmtUnfSF        1460 non-null int64\n",
      "TotalBsmtSF      1460 non-null int64\n",
      "Heating          1460 non-null object\n",
      "HeatingQC        1460 non-null object\n",
      "CentralAir       1460 non-null object\n",
      "Electrical       1459 non-null object\n",
      "1stFlrSF         1460 non-null int64\n",
      "2ndFlrSF         1460 non-null int64\n",
      "LowQualFinSF     1460 non-null int64\n",
      "GrLivArea        1460 non-null int64\n",
      "BsmtFullBath     1460 non-null int64\n",
      "BsmtHalfBath     1460 non-null int64\n",
      "FullBath         1460 non-null int64\n",
      "HalfBath         1460 non-null int64\n",
      "BedroomAbvGr     1460 non-null int64\n",
      "KitchenAbvGr     1460 non-null int64\n",
      "KitchenQual      1460 non-null object\n",
      "TotRmsAbvGrd     1460 non-null int64\n",
      "Functional       1460 non-null object\n",
      "Fireplaces       1460 non-null int64\n",
      "FireplaceQu      770 non-null object\n",
      "GarageType       1379 non-null object\n",
      "GarageYrBlt      1379 non-null float64\n",
      "GarageFinish     1379 non-null object\n",
      "GarageCars       1460 non-null int64\n",
      "GarageArea       1460 non-null int64\n",
      "GarageQual       1379 non-null object\n",
      "GarageCond       1379 non-null object\n",
      "PavedDrive       1460 non-null object\n",
      "WoodDeckSF       1460 non-null int64\n",
      "OpenPorchSF      1460 non-null int64\n",
      "EnclosedPorch    1460 non-null int64\n",
      "3SsnPorch        1460 non-null int64\n",
      "ScreenPorch      1460 non-null int64\n",
      "PoolArea         1460 non-null int64\n",
      "PoolQC           7 non-null object\n",
      "Fence            281 non-null object\n",
      "MiscFeature      54 non-null object\n",
      "MiscVal          1460 non-null int64\n",
      "MoSold           1460 non-null int64\n",
      "YrSold           1460 non-null int64\n",
      "SaleType         1460 non-null object\n",
      "SaleCondition    1460 non-null object\n",
      "SalePrice        1460 non-null int64\n",
      "dtypes: float64(3), int64(35), object(43)\n",
      "memory usage: 924.0+ KB\n"
     ]
    }
   ],
   "source": [
    "train.info()"
   ]
  },
  {
   "cell_type": "markdown",
   "metadata": {},
   "source": [
    "Lets investigate all the columns that don't are not included in most rows just to get a feel for what they are"
   ]
  },
  {
   "cell_type": "code",
   "execution_count": 9,
   "metadata": {},
   "outputs": [
    {
     "data": {
      "text/plain": [
       "Grvl    50\n",
       "Pave    41\n",
       "Name: Alley, dtype: int64"
      ]
     },
     "execution_count": 9,
     "metadata": {},
     "output_type": "execute_result"
    }
   ],
   "source": [
    "train['Alley'].value_counts()"
   ]
  },
  {
   "cell_type": "code",
   "execution_count": 10,
   "metadata": {},
   "outputs": [
    {
     "data": {
      "text/plain": [
       "Gd    3\n",
       "Ex    2\n",
       "Fa    2\n",
       "Name: PoolQC, dtype: int64"
      ]
     },
     "execution_count": 10,
     "metadata": {},
     "output_type": "execute_result"
    }
   ],
   "source": [
    "train['PoolQC'].value_counts()"
   ]
  },
  {
   "cell_type": "code",
   "execution_count": 11,
   "metadata": {},
   "outputs": [
    {
     "data": {
      "text/plain": [
       "MnPrv    157\n",
       "GdPrv     59\n",
       "GdWo      54\n",
       "MnWw      11\n",
       "Name: Fence, dtype: int64"
      ]
     },
     "execution_count": 11,
     "metadata": {},
     "output_type": "execute_result"
    }
   ],
   "source": [
    "train['Fence'].value_counts()"
   ]
  },
  {
   "cell_type": "code",
   "execution_count": 12,
   "metadata": {},
   "outputs": [
    {
     "data": {
      "text/plain": [
       "Shed    49\n",
       "Gar2     2\n",
       "Othr     2\n",
       "TenC     1\n",
       "Name: MiscFeature, dtype: int64"
      ]
     },
     "execution_count": 12,
     "metadata": {},
     "output_type": "execute_result"
    }
   ],
   "source": [
    "train['MiscFeature'].value_counts()"
   ]
  },
  {
   "cell_type": "markdown",
   "metadata": {},
   "source": [
    "Lets now look at the sales price since that is our main predictive objective"
   ]
  },
  {
   "cell_type": "code",
   "execution_count": 13,
   "metadata": {},
   "outputs": [
    {
     "data": {
      "text/plain": [
       "count      1460.000000\n",
       "mean     180921.195890\n",
       "std       79442.502883\n",
       "min       34900.000000\n",
       "25%      129975.000000\n",
       "50%      163000.000000\n",
       "75%      214000.000000\n",
       "max      755000.000000\n",
       "Name: SalePrice, dtype: float64"
      ]
     },
     "execution_count": 13,
     "metadata": {},
     "output_type": "execute_result"
    }
   ],
   "source": [
    "train['SalePrice'].describe()"
   ]
  },
  {
   "cell_type": "code",
   "execution_count": 14,
   "metadata": {
    "collapsed": true
   },
   "outputs": [],
   "source": [
    "import matplotlib.pyplot as plt\n",
    "import seaborn as sns\n",
    "%matplotlib inline"
   ]
  },
  {
   "cell_type": "code",
   "execution_count": 21,
   "metadata": {},
   "outputs": [
    {
     "data": {
      "text/plain": [
       "<matplotlib.axes._subplots.AxesSubplot at 0x23b78595e48>"
      ]
     },
     "execution_count": 21,
     "metadata": {},
     "output_type": "execute_result"
    },
    {
     "data": {
      "image/png": "[encoded data removed]",
      "text/plain": [
       "<matplotlib.figure.Figure at 0x23b78595eb8>"
      ]
     },
     "metadata": {},
     "output_type": "display_data"
    }
   ],
   "source": [
    "plt.figure(figsize=(14,7))\n",
    "plt.ylabel('Count')\n",
    "sns.distplot(train['SalePrice'],bins=15,)"
   ]
  },
  {
   "cell_type": "markdown",
   "metadata": {},
   "source": [
    "Recall skewness measures how symmetric our histogram is.  Obviously this one is not very symmetric, lets get a measure on it anyways.\n",
    "\n",
    "Kurtosis is how 'pointy' our distribution is compared to a normal bell curve.  Positive means pointy, negative means flat, 0 means bell curve.\n",
    "\n",
    "It looks like from our histogram we have a few outliers who are above $500,000.  Lets examinine them a little more."
   ]
  },
  {
   "cell_type": "code",
   "execution_count": 16,
   "metadata": {},
   "outputs": [
    {
     "name": "stdout",
     "output_type": "stream",
     "text": [
      "Skewness: 1.882876\n",
      "Kurtosis: 6.536282\n"
     ]
    }
   ],
   "source": [
    "#skewness and kurtosis\n",
    "print(\"Skewness: %f\" %train['SalePrice'].skew())\n",
    "print(\"Kurtosis: %f\" % train['SalePrice'].kurt())"
   ]
  },
  {
   "cell_type": "markdown",
   "metadata": {},
   "source": [
    "Lets see if we can find some variables that correlate nicely with sales price."
   ]
  },
  {
   "cell_type": "code",
   "execution_count": 32,
   "metadata": {
    "collapsed": true
   },
   "outputs": [],
   "source": [
    "def make_num_corr_graph(df,var1,var2):\n",
    "    data = pd.concat([df[var1], df[var2]], axis=1)\n",
    "    data.plot.scatter(x=var2, y=var1, ylim=(0,800000))"
   ]
  },
  {
   "cell_type": "code",
   "execution_count": 44,
   "metadata": {
    "collapsed": true
   },
   "outputs": [],
   "source": [
    "def make_category_corr_graph(df,var1,var2):\n",
    "    data = pd.concat([df[var1],df[var2]],axis=1)\n",
    "    f, ax = plt.subplots(figsize=(8, 6))\n",
    "    fig = sns.boxplot(x=var2, y=var1, data=data)\n",
    "    fig.axis(ymin=0, ymax=800000);"
   ]
  },
  {
   "cell_type": "code",
   "execution_count": 45,
   "metadata": {},
   "outputs": [
    {
     "data": {
      "image/png": "[encoded data removed]",
      "text/plain": [
       "<matplotlib.figure.Figure at 0x23b039f9eb8>"
      ]
     },
     "metadata": {},
     "output_type": "display_data"
    }
   ],
   "source": [
    "make_num_corr_graph(train,'SalePrice','LotFrontage')"
   ]
  },
  {
   "cell_type": "code",
   "execution_count": 46,
   "metadata": {},
   "outputs": [
    {
     "data": {
      "image/png": "[encoded data removed]",
      "text/plain": [
       "<matplotlib.figure.Figure at 0x23b03d47e48>"
      ]
     },
     "metadata": {},
     "output_type": "display_data"
    }
   ],
   "source": [
    "make_category_corr_graph(train,'SalePrice','OverallQual')"
   ]
  },
  {
   "cell_type": "code",
   "execution_count": 50,
   "metadata": {},
   "outputs": [
    {
     "data": {
      "image/png": "[encoded data removed]",
      "text/plain": [
       "<matplotlib.figure.Figure at 0x23b03a315f8>"
      ]
     },
     "metadata": {},
     "output_type": "display_data"
    }
   ],
   "source": [
    "make_category_corr_graph(train,'SalePrice','OverallCond')"
   ]
  },
  {
   "cell_type": "markdown",
   "metadata": {},
   "source": [
    "Lets use seaborn and find what correlates most with what else"
   ]
  },
  {
   "cell_type": "code",
   "execution_count": 51,
   "metadata": {
    "collapsed": true
   },
   "outputs": [],
   "source": [
    "corrmatrix = train.corr()"
   ]
  },
  {
   "cell_type": "code",
   "execution_count": 54,
   "metadata": {},
   "outputs": [
    {
     "data": {
      "image/png": "[encoded data removed]",
      "text/plain": [
       "<matplotlib.figure.Figure at 0x23b03332f28>"
      ]
     },
     "metadata": {},
     "output_type": "display_data"
    }
   ],
   "source": [
    "f, ax = plt.subplots(figsize=(12, 9))\n",
    "sns.heatmap(corrmatrix, vmax=.8, square=True);"
   ]
  },
  {
   "cell_type": "code",
   "execution_count": 100,
   "metadata": {},
   "outputs": [
    {
     "data": {
      "text/plain": [
       "SalePrice      1.000000\n",
       "OverallQual    0.790982\n",
       "GrLivArea      0.708624\n",
       "GarageCars     0.640409\n",
       "GarageArea     0.623431\n",
       "Name: SalePrice, dtype: float64"
      ]
     },
     "execution_count": 100,
     "metadata": {},
     "output_type": "execute_result"
    }
   ],
   "source": [
    "#Top 5 correlating factors\n",
    "corrmatrix.nlargest(5,'SalePrice')['SalePrice']"
   ]
  },
  {
   "cell_type": "code",
   "execution_count": 113,
   "metadata": {
    "collapsed": true
   },
   "outputs": [],
   "source": [
    "#Put this in a helper file, most likely useful in future\n",
    "def correlated_by_at_least_k(corrmatrix,columnname,k=.5):\n",
    "    return corrmatrix[np.logical_or(corrmatrix[columnname]<-k, corrmatrix[columnname]>k)][columnname].sort_values(ascending=False)"
   ]
  },
  {
   "cell_type": "markdown",
   "metadata": {},
   "source": [
    "Lets investigate if there are any other factors that have a higher than .5 correlation with Sale Price"
   ]
  },
  {
   "cell_type": "code",
   "execution_count": 114,
   "metadata": {},
   "outputs": [
    {
     "name": "stdout",
     "output_type": "stream",
     "text": [
      "SalePrice       1.000000\n",
      "OverallQual     0.790982\n",
      "GrLivArea       0.708624\n",
      "GarageCars      0.640409\n",
      "GarageArea      0.623431\n",
      "TotalBsmtSF     0.613581\n",
      "1stFlrSF        0.605852\n",
      "FullBath        0.560664\n",
      "TotRmsAbvGrd    0.533723\n",
      "YearBuilt       0.522897\n",
      "YearRemodAdd    0.507101\n",
      "Name: SalePrice, dtype: float64\n"
     ]
    }
   ],
   "source": [
    "print(correlated_by_at_least_k(corrmatrix,'SalePrice'))"
   ]
  },
  {
   "cell_type": "code",
   "execution_count": 117,
   "metadata": {},
   "outputs": [],
   "source": [
    "cols_to_feature = ['OverallQual','GrLivArea','GarageCars','TotalBsmtSF','FullBath','TotRmsAbvGrd','YearBuilt']"
   ]
  },
  {
   "cell_type": "code",
   "execution_count": 118,
   "metadata": {},
   "outputs": [],
   "source": [
    "train_subset = train[cols_to_feature]"
   ]
  },
  {
   "cell_type": "code",
   "execution_count": 120,
   "metadata": {},
   "outputs": [
    {
     "data": {
      "text/html": [
       "<div>\n",
       "<style>\n",
       "    .dataframe thead tr:only-child th {\n",
       "        text-align: right;\n",
       "    }\n",
       "\n",
       "    .dataframe thead th {\n",
       "        text-align: left;\n",
       "    }\n",
       "\n",
       "    .dataframe tbody tr th {\n",
       "        vertical-align: top;\n",
       "    }\n",
       "</style>\n",
       "<table border=\"1\" class=\"dataframe\">\n",
       "  <thead>\n",
       "    <tr style=\"text-align: right;\">\n",
       "      <th></th>\n",
       "      <th>OverallQual</th>\n",
       "      <th>GrLivArea</th>\n",
       "      <th>GarageCars</th>\n",
       "      <th>TotalBsmtSF</th>\n",
       "      <th>FullBath</th>\n",
       "      <th>TotRmsAbvGrd</th>\n",
       "      <th>YearBuilt</th>\n",
       "    </tr>\n",
       "  </thead>\n",
       "  <tbody>\n",
       "    <tr>\n",
       "      <th>0</th>\n",
       "      <td>7</td>\n",
       "      <td>1710</td>\n",
       "      <td>2</td>\n",
       "      <td>856</td>\n",
       "      <td>2</td>\n",
       "      <td>8</td>\n",
       "      <td>2003</td>\n",
       "    </tr>\n",
       "    <tr>\n",
       "      <th>1</th>\n",
       "      <td>6</td>\n",
       "      <td>1262</td>\n",
       "      <td>2</td>\n",
       "      <td>1262</td>\n",
       "      <td>2</td>\n",
       "      <td>6</td>\n",
       "      <td>1976</td>\n",
       "    </tr>\n",
       "    <tr>\n",
       "      <th>2</th>\n",
       "      <td>7</td>\n",
       "      <td>1786</td>\n",
       "      <td>2</td>\n",
       "      <td>920</td>\n",
       "      <td>2</td>\n",
       "      <td>6</td>\n",
       "      <td>2001</td>\n",
       "    </tr>\n",
       "    <tr>\n",
       "      <th>3</th>\n",
       "      <td>7</td>\n",
       "      <td>1717</td>\n",
       "      <td>3</td>\n",
       "      <td>756</td>\n",
       "      <td>1</td>\n",
       "      <td>7</td>\n",
       "      <td>1915</td>\n",
       "    </tr>\n",
       "    <tr>\n",
       "      <th>4</th>\n",
       "      <td>8</td>\n",
       "      <td>2198</td>\n",
       "      <td>3</td>\n",
       "      <td>1145</td>\n",
       "      <td>2</td>\n",
       "      <td>9</td>\n",
       "      <td>2000</td>\n",
       "    </tr>\n",
       "  </tbody>\n",
       "</table>\n",
       "</div>"
      ],
      "text/plain": [
       "   OverallQual  GrLivArea  GarageCars  TotalBsmtSF  FullBath  TotRmsAbvGrd  \\\n",
       "0            7       1710           2          856         2             8   \n",
       "1            6       1262           2         1262         2             6   \n",
       "2            7       1786           2          920         2             6   \n",
       "3            7       1717           3          756         1             7   \n",
       "4            8       2198           3         1145         2             9   \n",
       "\n",
       "   YearBuilt  \n",
       "0       2003  \n",
       "1       1976  \n",
       "2       2001  \n",
       "3       1915  \n",
       "4       2000  "
      ]
     },
     "execution_count": 120,
     "metadata": {},
     "output_type": "execute_result"
    }
   ],
   "source": [
    "train_subset.head()"
   ]
  },
  {
   "cell_type": "code",
   "execution_count": 121,
   "metadata": {},
   "outputs": [
    {
     "data": {
      "text/plain": [
       "(1460, 7)"
      ]
     },
     "execution_count": 121,
     "metadata": {},
     "output_type": "execute_result"
    }
   ],
   "source": [
    "train_subset.shape"
   ]
  },
  {
   "cell_type": "code",
   "execution_count": 151,
   "metadata": {},
   "outputs": [
    {
     "data": {
      "text/plain": [
       "663"
      ]
     },
     "execution_count": 151,
     "metadata": {},
     "output_type": "execute_result"
    }
   ],
   "source": [
    "train['SalePrice'].value_counts().count()"
   ]
  },
  {
   "cell_type": "code",
   "execution_count": 123,
   "metadata": {},
   "outputs": [],
   "source": [
    "import tensorflow as tf"
   ]
  },
  {
   "cell_type": "code",
   "execution_count": 142,
   "metadata": {},
   "outputs": [],
   "source": [
    "quality = tf.feature_column.categorical_column_with_hash_bucket('OverallQual',hash_bucket_size=10)\n",
    "livingarea = tf.feature_column.numeric_column('GrLivArea')\n",
    "garage = tf.feature_column.categorical_column_with_hash_bucket('GarageCars',hash_bucket_size=5)\n",
    "basement = tf.feature_column.numeric_column('TotalBsmtSF')\n",
    "full_baths = tf.feature_column.categorical_column_with_hash_bucket('FullBath',hash_bucket_size=4)\n",
    "rooms = tf.feature_column.categorical_column_with_hash_bucket('TotRmsAbvGrd',hash_bucket_size=12)\n",
    "year_built = tf.feature_column.numeric_column('YearBuilt')"
   ]
  },
  {
   "cell_type": "code",
   "execution_count": 143,
   "metadata": {
    "collapsed": true
   },
   "outputs": [],
   "source": [
    "x_data = train_subset"
   ]
  },
  {
   "cell_type": "code",
   "execution_count": 158,
   "metadata": {},
   "outputs": [
    {
     "name": "stderr",
     "output_type": "stream",
     "text": [
      "C:\\Users\\karab\\Anaconda3\\envs\\tfdeeplearning\\lib\\site-packages\\pandas\\core\\generic.py:3110: SettingWithCopyWarning: \n",
      "A value is trying to be set on a copy of a slice from a DataFrame.\n",
      "Try using .loc[row_indexer,col_indexer] = value instead\n",
      "\n",
      "See the caveats in the documentation: http://pandas.pydata.org/pandas-docs/stable/indexing.html#indexing-view-versus-copy\n",
      "  self[name] = value\n"
     ]
    }
   ],
   "source": [
    "x_data.FullBath = x_data.FullBath.astype(str)"
   ]
  },
  {
   "cell_type": "code",
   "execution_count": 169,
   "metadata": {},
   "outputs": [
    {
     "name": "stderr",
     "output_type": "stream",
     "text": [
      "C:\\Users\\karab\\Anaconda3\\envs\\tfdeeplearning\\lib\\site-packages\\pandas\\core\\generic.py:3110: SettingWithCopyWarning: \n",
      "A value is trying to be set on a copy of a slice from a DataFrame.\n",
      "Try using .loc[row_indexer,col_indexer] = value instead\n",
      "\n",
      "See the caveats in the documentation: http://pandas.pydata.org/pandas-docs/stable/indexing.html#indexing-view-versus-copy\n",
      "  self[name] = value\n"
     ]
    }
   ],
   "source": [
    "x_data.GarageCars = x_data.GarageCars.astype(str)"
   ]
  },
  {
   "cell_type": "code",
   "execution_count": 180,
   "metadata": {},
   "outputs": [
    {
     "name": "stderr",
     "output_type": "stream",
     "text": [
      "C:\\Users\\karab\\Anaconda3\\envs\\tfdeeplearning\\lib\\site-packages\\pandas\\core\\generic.py:3110: SettingWithCopyWarning: \n",
      "A value is trying to be set on a copy of a slice from a DataFrame.\n",
      "Try using .loc[row_indexer,col_indexer] = value instead\n",
      "\n",
      "See the caveats in the documentation: http://pandas.pydata.org/pandas-docs/stable/indexing.html#indexing-view-versus-copy\n",
      "  self[name] = value\n"
     ]
    }
   ],
   "source": [
    "x_data.OverallQual = x_data.OverallQual.astype(str)"
   ]
  },
  {
   "cell_type": "code",
   "execution_count": 192,
   "metadata": {},
   "outputs": [
    {
     "name": "stderr",
     "output_type": "stream",
     "text": [
      "C:\\Users\\karab\\Anaconda3\\envs\\tfdeeplearning\\lib\\site-packages\\pandas\\core\\generic.py:3110: SettingWithCopyWarning: \n",
      "A value is trying to be set on a copy of a slice from a DataFrame.\n",
      "Try using .loc[row_indexer,col_indexer] = value instead\n",
      "\n",
      "See the caveats in the documentation: http://pandas.pydata.org/pandas-docs/stable/indexing.html#indexing-view-versus-copy\n",
      "  self[name] = value\n"
     ]
    }
   ],
   "source": [
    "x_data.TotRmsAbvGrd = x_data.TotRmsAbvGrd.astype(str)"
   ]
  },
  {
   "cell_type": "code",
   "execution_count": 193,
   "metadata": {},
   "outputs": [
    {
     "data": {
      "text/plain": [
       "0       2\n",
       "1       2\n",
       "2       2\n",
       "3       1\n",
       "4       2\n",
       "5       1\n",
       "6       2\n",
       "7       2\n",
       "8       2\n",
       "9       1\n",
       "10      1\n",
       "11      3\n",
       "12      1\n",
       "13      2\n",
       "14      1\n",
       "15      1\n",
       "16      1\n",
       "17      2\n",
       "18      1\n",
       "19      1\n",
       "20      3\n",
       "21      1\n",
       "22      2\n",
       "23      1\n",
       "24      1\n",
       "25      2\n",
       "26      1\n",
       "27      2\n",
       "28      1\n",
       "29      1\n",
       "       ..\n",
       "1430    2\n",
       "1431    2\n",
       "1432    2\n",
       "1433    2\n",
       "1434    2\n",
       "1435    1\n",
       "1436    1\n",
       "1437    2\n",
       "1438    1\n",
       "1439    2\n",
       "1440    2\n",
       "1441    1\n",
       "1442    2\n",
       "1443    1\n",
       "1444    2\n",
       "1445    1\n",
       "1446    1\n",
       "1447    2\n",
       "1448    1\n",
       "1449    1\n",
       "1450    2\n",
       "1451    2\n",
       "1452    1\n",
       "1453    1\n",
       "1454    2\n",
       "1455    2\n",
       "1456    2\n",
       "1457    2\n",
       "1458    1\n",
       "1459    1\n",
       "Name: FullBath, Length: 1460, dtype: object"
      ]
     },
     "execution_count": 193,
     "metadata": {},
     "output_type": "execute_result"
    }
   ],
   "source": [
    "x_data.FullBath"
   ]
  },
  {
   "cell_type": "code",
   "execution_count": 194,
   "metadata": {
    "collapsed": true
   },
   "outputs": [],
   "source": [
    "labels = train['SalePrice']"
   ]
  },
  {
   "cell_type": "code",
   "execution_count": 195,
   "metadata": {},
   "outputs": [
    {
     "data": {
      "text/plain": [
       "(1460, 7)"
      ]
     },
     "execution_count": 195,
     "metadata": {},
     "output_type": "execute_result"
    }
   ],
   "source": [
    "x_data.shape"
   ]
  },
  {
   "cell_type": "code",
   "execution_count": 196,
   "metadata": {},
   "outputs": [
    {
     "data": {
      "text/plain": [
       "(1460,)"
      ]
     },
     "execution_count": 196,
     "metadata": {},
     "output_type": "execute_result"
    }
   ],
   "source": [
    "labels.shape"
   ]
  },
  {
   "cell_type": "code",
   "execution_count": 197,
   "metadata": {
    "collapsed": true
   },
   "outputs": [],
   "source": [
    "feat_cols = [quality,livingarea,garage,basement,full_baths,rooms,year_built]"
   ]
  },
  {
   "cell_type": "code",
   "execution_count": 198,
   "metadata": {
    "collapsed": true
   },
   "outputs": [],
   "source": [
    "from sklearn.model_selection import train_test_split"
   ]
  },
  {
   "cell_type": "code",
   "execution_count": 199,
   "metadata": {
    "collapsed": true
   },
   "outputs": [],
   "source": [
    "X_train, X_test, y_train, y_test = train_test_split(x_data, labels, test_size=.15)"
   ]
  },
  {
   "cell_type": "code",
   "execution_count": 203,
   "metadata": {
    "collapsed": true
   },
   "outputs": [],
   "source": [
    "input_func = tf.estimator.inputs.pandas_input_fn(x=X_train, y=y_train,\n",
    "                                                 batch_size=64,num_epochs=1000,\n",
    "                                                 shuffle=True)"
   ]
  },
  {
   "cell_type": "code",
   "execution_count": 204,
   "metadata": {},
   "outputs": [
    {
     "name": "stdout",
     "output_type": "stream",
     "text": [
      "INFO:tensorflow:Using default config.\n",
      "WARNING:tensorflow:Using temporary folder as model directory: C:\\Users\\karab\\AppData\\Local\\Temp\\tmpp6p5865l\n",
      "INFO:tensorflow:Using config: {'_save_checkpoints_secs': 600, '_session_config': None, '_log_step_count_steps': 100, '_keep_checkpoint_every_n_hours': 10000, '_keep_checkpoint_max': 5, '_save_checkpoints_steps': None, '_save_summary_steps': 100, '_tf_random_seed': 1, '_model_dir': 'C:\\\\Users\\\\karab\\\\AppData\\\\Local\\\\Temp\\\\tmpp6p5865l'}\n"
     ]
    }
   ],
   "source": [
    "linear_model = tf.estimator.LinearRegressor(feat_cols)"
   ]
  },
  {
   "cell_type": "code",
   "execution_count": 209,
   "metadata": {},
   "outputs": [
    {
     "name": "stdout",
     "output_type": "stream",
     "text": [
      "INFO:tensorflow:Create CheckpointSaverHook.\n",
      "INFO:tensorflow:Restoring parameters from C:\\Users\\karab\\AppData\\Local\\Temp\\tmpp6p5865l\\model.ckpt-20000\n",
      "INFO:tensorflow:Saving checkpoints for 20001 into C:\\Users\\karab\\AppData\\Local\\Temp\\tmpp6p5865l\\model.ckpt.\n",
      "INFO:tensorflow:loss = 1.63462e+11, step = 20001\n",
      "INFO:tensorflow:global_step/sec: 403.097\n",
      "INFO:tensorflow:loss = 2.40101e+11, step = 20101 (0.248 sec)\n",
      "INFO:tensorflow:global_step/sec: 436.223\n",
      "INFO:tensorflow:loss = 1.79116e+11, step = 20201 (0.245 sec)\n",
      "INFO:tensorflow:global_step/sec: 417.982\n",
      "INFO:tensorflow:loss = 2.25981e+11, step = 20301 (0.224 sec)\n",
      "INFO:tensorflow:global_step/sec: 482.813\n",
      "INFO:tensorflow:loss = 1.0138e+11, step = 20401 (0.207 sec)\n",
      "INFO:tensorflow:global_step/sec: 463.142\n",
      "INFO:tensorflow:loss = 1.52848e+11, step = 20501 (0.216 sec)\n",
      "INFO:tensorflow:global_step/sec: 445.543\n",
      "INFO:tensorflow:loss = 2.67398e+11, step = 20601 (0.224 sec)\n",
      "INFO:tensorflow:global_step/sec: 444.541\n",
      "INFO:tensorflow:loss = 3.60386e+11, step = 20701 (0.225 sec)\n",
      "INFO:tensorflow:global_step/sec: 460.735\n",
      "INFO:tensorflow:loss = 1.84265e+11, step = 20801 (0.217 sec)\n",
      "INFO:tensorflow:global_step/sec: 301.762\n",
      "INFO:tensorflow:loss = 2.17846e+11, step = 20901 (0.339 sec)\n",
      "INFO:tensorflow:global_step/sec: 411.239\n",
      "INFO:tensorflow:loss = 2.00243e+11, step = 21001 (0.235 sec)\n",
      "INFO:tensorflow:global_step/sec: 480.537\n",
      "INFO:tensorflow:loss = 2.31591e+11, step = 21101 (0.208 sec)\n",
      "INFO:tensorflow:global_step/sec: 463.137\n",
      "INFO:tensorflow:loss = 1.68401e+11, step = 21201 (0.216 sec)\n",
      "INFO:tensorflow:global_step/sec: 397.777\n",
      "INFO:tensorflow:loss = 1.8676e+11, step = 21301 (0.251 sec)\n",
      "INFO:tensorflow:global_step/sec: 463.015\n",
      "INFO:tensorflow:loss = 1.36334e+11, step = 21401 (0.216 sec)\n",
      "INFO:tensorflow:global_step/sec: 396.992\n",
      "INFO:tensorflow:loss = 3.07877e+11, step = 21501 (0.252 sec)\n",
      "INFO:tensorflow:global_step/sec: 292.707\n",
      "INFO:tensorflow:loss = 1.10373e+11, step = 21601 (0.345 sec)\n",
      "INFO:tensorflow:global_step/sec: 450.269\n",
      "INFO:tensorflow:loss = 2.18578e+11, step = 21701 (0.219 sec)\n",
      "INFO:tensorflow:global_step/sec: 454.119\n",
      "INFO:tensorflow:loss = 2.44991e+11, step = 21801 (0.236 sec)\n",
      "INFO:tensorflow:global_step/sec: 435.007\n",
      "INFO:tensorflow:loss = 3.88092e+11, step = 21901 (0.214 sec)\n",
      "INFO:tensorflow:global_step/sec: 462.718\n",
      "INFO:tensorflow:loss = 1.9323e+11, step = 22001 (0.232 sec)\n",
      "INFO:tensorflow:global_step/sec: 459.823\n",
      "INFO:tensorflow:loss = 1.80027e+11, step = 22101 (0.217 sec)\n",
      "INFO:tensorflow:global_step/sec: 463.324\n",
      "INFO:tensorflow:loss = 1.57101e+11, step = 22201 (0.216 sec)\n",
      "INFO:tensorflow:global_step/sec: 429.802\n",
      "INFO:tensorflow:loss = 1.23354e+11, step = 22301 (0.217 sec)\n",
      "INFO:tensorflow:global_step/sec: 302.407\n",
      "INFO:tensorflow:loss = 1.50552e+11, step = 22401 (0.337 sec)\n",
      "INFO:tensorflow:global_step/sec: 368.126\n",
      "INFO:tensorflow:loss = 3.0802e+11, step = 22501 (0.266 sec)\n",
      "INFO:tensorflow:global_step/sec: 465.958\n",
      "INFO:tensorflow:loss = 3.52572e+11, step = 22601 (0.215 sec)\n",
      "INFO:tensorflow:global_step/sec: 451.476\n",
      "INFO:tensorflow:loss = 2.30965e+11, step = 22701 (0.237 sec)\n",
      "INFO:tensorflow:global_step/sec: 267.689\n",
      "INFO:tensorflow:loss = 1.25547e+11, step = 22801 (0.370 sec)\n",
      "INFO:tensorflow:global_step/sec: 384.088\n",
      "INFO:tensorflow:loss = 8.27961e+10, step = 22901 (0.248 sec)\n",
      "INFO:tensorflow:global_step/sec: 438.927\n",
      "INFO:tensorflow:loss = 1.16508e+11, step = 23001 (0.228 sec)\n",
      "INFO:tensorflow:global_step/sec: 425.695\n",
      "INFO:tensorflow:loss = 3.30688e+11, step = 23101 (0.238 sec)\n",
      "INFO:tensorflow:global_step/sec: 467.793\n",
      "INFO:tensorflow:loss = 1.90825e+11, step = 23201 (0.211 sec)\n",
      "INFO:tensorflow:global_step/sec: 460.436\n",
      "INFO:tensorflow:loss = 5.30054e+11, step = 23301 (0.237 sec)\n",
      "INFO:tensorflow:global_step/sec: 267.769\n",
      "INFO:tensorflow:loss = 1.99416e+11, step = 23401 (0.360 sec)\n",
      "INFO:tensorflow:global_step/sec: 405.315\n",
      "INFO:tensorflow:loss = 2.32089e+11, step = 23501 (0.256 sec)\n",
      "INFO:tensorflow:global_step/sec: 400.745\n",
      "INFO:tensorflow:loss = 2.31022e+11, step = 23601 (0.234 sec)\n",
      "INFO:tensorflow:global_step/sec: 470.731\n",
      "INFO:tensorflow:loss = 1.49473e+11, step = 23701 (0.228 sec)\n",
      "INFO:tensorflow:global_step/sec: 431.395\n",
      "INFO:tensorflow:loss = 1.31139e+11, step = 23801 (0.216 sec)\n",
      "INFO:tensorflow:global_step/sec: 395.866\n",
      "INFO:tensorflow:loss = 1.54606e+11, step = 23901 (0.253 sec)\n",
      "INFO:tensorflow:global_step/sec: 293.936\n",
      "INFO:tensorflow:loss = 2.05488e+11, step = 24001 (0.349 sec)\n",
      "INFO:tensorflow:global_step/sec: 356.704\n",
      "INFO:tensorflow:loss = 1.19803e+11, step = 24101 (0.287 sec)\n",
      "INFO:tensorflow:global_step/sec: 407.738\n",
      "INFO:tensorflow:loss = 6.08987e+10, step = 24201 (0.230 sec)\n",
      "INFO:tensorflow:global_step/sec: 479.818\n",
      "INFO:tensorflow:loss = 2.00048e+11, step = 24301 (0.224 sec)\n",
      "INFO:tensorflow:global_step/sec: 449.033\n",
      "INFO:tensorflow:loss = 3.5897e+11, step = 24401 (0.207 sec)\n",
      "INFO:tensorflow:global_step/sec: 392.696\n",
      "INFO:tensorflow:loss = 2.10715e+11, step = 24501 (0.255 sec)\n",
      "INFO:tensorflow:global_step/sec: 410.461\n",
      "INFO:tensorflow:loss = 2.94032e+11, step = 24601 (0.244 sec)\n",
      "INFO:tensorflow:global_step/sec: 442.049\n",
      "INFO:tensorflow:loss = 1.45872e+11, step = 24701 (0.226 sec)\n",
      "INFO:tensorflow:global_step/sec: 292.371\n",
      "INFO:tensorflow:loss = 2.68556e+11, step = 24801 (0.349 sec)\n",
      "INFO:tensorflow:global_step/sec: 277.75\n",
      "INFO:tensorflow:loss = 1.80869e+11, step = 24901 (0.356 sec)\n",
      "INFO:tensorflow:global_step/sec: 445.024\n",
      "INFO:tensorflow:loss = 1.70094e+11, step = 25001 (0.229 sec)\n",
      "INFO:tensorflow:global_step/sec: 263.862\n",
      "INFO:tensorflow:loss = 1.21244e+11, step = 25101 (0.380 sec)\n",
      "INFO:tensorflow:global_step/sec: 423.516\n",
      "INFO:tensorflow:loss = 1.37907e+11, step = 25201 (0.228 sec)\n",
      "INFO:tensorflow:global_step/sec: 346.366\n",
      "INFO:tensorflow:loss = 2.62316e+11, step = 25301 (0.290 sec)\n",
      "INFO:tensorflow:global_step/sec: 478.768\n",
      "INFO:tensorflow:loss = 4.62568e+11, step = 25401 (0.208 sec)\n",
      "INFO:tensorflow:global_step/sec: 458.436\n",
      "INFO:tensorflow:loss = 1.65176e+11, step = 25501 (0.218 sec)\n",
      "INFO:tensorflow:global_step/sec: 428.834\n",
      "INFO:tensorflow:loss = 2.02491e+11, step = 25601 (0.233 sec)\n",
      "INFO:tensorflow:global_step/sec: 423.197\n",
      "INFO:tensorflow:loss = 2.43556e+11, step = 25701 (0.236 sec)\n",
      "INFO:tensorflow:global_step/sec: 391.291\n",
      "INFO:tensorflow:loss = 2.40303e+11, step = 25801 (0.262 sec)\n",
      "INFO:tensorflow:global_step/sec: 298.415\n",
      "INFO:tensorflow:loss = 1.37109e+11, step = 25901 (0.335 sec)\n",
      "INFO:tensorflow:global_step/sec: 278.52\n",
      "INFO:tensorflow:loss = 2.25095e+11, step = 26001 (0.361 sec)\n",
      "INFO:tensorflow:global_step/sec: 284.045\n",
      "INFO:tensorflow:loss = 1.69834e+11, step = 26101 (0.351 sec)\n",
      "INFO:tensorflow:global_step/sec: 293.18\n",
      "INFO:tensorflow:loss = 1.4703e+11, step = 26201 (0.347 sec)\n",
      "INFO:tensorflow:global_step/sec: 284.043\n",
      "INFO:tensorflow:loss = 3.44387e+11, step = 26301 (0.347 sec)\n",
      "INFO:tensorflow:global_step/sec: 335.343\n",
      "INFO:tensorflow:loss = 2.78242e+11, step = 26401 (0.302 sec)\n",
      "INFO:tensorflow:global_step/sec: 289.791\n",
      "INFO:tensorflow:loss = 1.89149e+11, step = 26501 (0.339 sec)\n",
      "INFO:tensorflow:global_step/sec: 340.986\n",
      "INFO:tensorflow:loss = 1.12461e+11, step = 26601 (0.287 sec)\n",
      "INFO:tensorflow:global_step/sec: 433.312\n",
      "INFO:tensorflow:loss = 3.19015e+11, step = 26701 (0.238 sec)\n",
      "INFO:tensorflow:global_step/sec: 317.302\n",
      "INFO:tensorflow:loss = 2.10942e+11, step = 26801 (0.313 sec)\n",
      "INFO:tensorflow:global_step/sec: 307.569\n",
      "INFO:tensorflow:loss = 1.67968e+11, step = 26901 (0.330 sec)\n",
      "INFO:tensorflow:global_step/sec: 288.126\n",
      "INFO:tensorflow:loss = 1.49287e+11, step = 27001 (0.346 sec)\n",
      "INFO:tensorflow:global_step/sec: 276.981\n",
      "INFO:tensorflow:loss = 1.344e+11, step = 27101 (0.359 sec)\n",
      "INFO:tensorflow:global_step/sec: 293.179\n",
      "INFO:tensorflow:loss = 2.99387e+11, step = 27201 (0.346 sec)\n",
      "INFO:tensorflow:global_step/sec: 273.209\n",
      "INFO:tensorflow:loss = 1.46431e+11, step = 27301 (0.361 sec)\n",
      "INFO:tensorflow:global_step/sec: 288.125\n",
      "INFO:tensorflow:loss = 9.88242e+10, step = 27401 (0.350 sec)\n",
      "INFO:tensorflow:global_step/sec: 325.539\n",
      "INFO:tensorflow:loss = 2.03332e+11, step = 27501 (0.308 sec)\n",
      "INFO:tensorflow:global_step/sec: 304.764\n",
      "INFO:tensorflow:loss = 1.31014e+11, step = 27601 (0.321 sec)\n",
      "INFO:tensorflow:global_step/sec: 290.63\n",
      "INFO:tensorflow:loss = 2.9715e+11, step = 27701 (0.347 sec)\n",
      "INFO:tensorflow:global_step/sec: 288.955\n",
      "INFO:tensorflow:loss = 3.0744e+11, step = 27801 (0.345 sec)\n"
     ]
    },
    {
     "name": "stdout",
     "output_type": "stream",
     "text": [
      "INFO:tensorflow:global_step/sec: 330.916\n",
      "INFO:tensorflow:loss = 2.68574e+11, step = 27901 (0.301 sec)\n",
      "INFO:tensorflow:global_step/sec: 312.36\n",
      "INFO:tensorflow:loss = 1.20919e+11, step = 28001 (0.323 sec)\n",
      "INFO:tensorflow:global_step/sec: 297.529\n",
      "INFO:tensorflow:loss = 3.29776e+11, step = 28101 (0.337 sec)\n",
      "INFO:tensorflow:global_step/sec: 306.628\n",
      "INFO:tensorflow:loss = 2.2476e+11, step = 28201 (0.325 sec)\n",
      "INFO:tensorflow:global_step/sec: 368.364\n",
      "INFO:tensorflow:loss = 2.42379e+11, step = 28301 (0.267 sec)\n",
      "INFO:tensorflow:global_step/sec: 463.89\n",
      "INFO:tensorflow:loss = 3.1786e+11, step = 28401 (0.216 sec)\n",
      "INFO:tensorflow:global_step/sec: 481.854\n",
      "INFO:tensorflow:loss = 1.86712e+11, step = 28501 (0.204 sec)\n",
      "INFO:tensorflow:global_step/sec: 462.057\n",
      "INFO:tensorflow:loss = 1.8464e+11, step = 28601 (0.216 sec)\n",
      "INFO:tensorflow:global_step/sec: 277.78\n",
      "INFO:tensorflow:loss = 2.09114e+11, step = 28701 (0.367 sec)\n",
      "INFO:tensorflow:global_step/sec: 285.663\n",
      "INFO:tensorflow:loss = 2.94779e+11, step = 28801 (0.348 sec)\n",
      "INFO:tensorflow:global_step/sec: 297.529\n",
      "INFO:tensorflow:loss = 1.36977e+11, step = 28901 (0.339 sec)\n",
      "INFO:tensorflow:global_step/sec: 307.569\n",
      "INFO:tensorflow:loss = 2.38332e+11, step = 29001 (0.324 sec)\n",
      "INFO:tensorflow:global_step/sec: 441.644\n",
      "INFO:tensorflow:loss = 2.57906e+11, step = 29101 (0.235 sec)\n",
      "INFO:tensorflow:global_step/sec: 432.494\n",
      "INFO:tensorflow:loss = 1.88735e+11, step = 29201 (0.216 sec)\n",
      "INFO:tensorflow:global_step/sec: 460.348\n",
      "INFO:tensorflow:loss = 1.86228e+11, step = 29301 (0.217 sec)\n",
      "INFO:tensorflow:global_step/sec: 435.992\n",
      "INFO:tensorflow:loss = 1.74167e+11, step = 29401 (0.243 sec)\n",
      "INFO:tensorflow:global_step/sec: 273.207\n",
      "INFO:tensorflow:loss = 3.24492e+11, step = 29501 (0.362 sec)\n",
      "INFO:tensorflow:global_step/sec: 239.304\n",
      "INFO:tensorflow:loss = 3.11943e+11, step = 29601 (0.411 sec)\n",
      "INFO:tensorflow:global_step/sec: 314.318\n",
      "INFO:tensorflow:loss = 1.19063e+11, step = 29701 (0.322 sec)\n",
      "INFO:tensorflow:global_step/sec: 425.409\n",
      "INFO:tensorflow:loss = 2.23669e+11, step = 29801 (0.228 sec)\n",
      "INFO:tensorflow:global_step/sec: 402.854\n",
      "INFO:tensorflow:loss = 1.45269e+11, step = 29901 (0.248 sec)\n",
      "INFO:tensorflow:Saving checkpoints for 30000 into C:\\Users\\karab\\AppData\\Local\\Temp\\tmpp6p5865l\\model.ckpt.\n",
      "INFO:tensorflow:Loss for final step: 1.13693e+11.\n"
     ]
    },
    {
     "data": {
      "text/plain": [
       "<tensorflow.python.estimator.canned.linear.LinearRegressor at 0x23b01193358>"
      ]
     },
     "execution_count": 209,
     "metadata": {},
     "output_type": "execute_result"
    }
   ],
   "source": [
    "linear_model.train(input_func,steps=10000)"
   ]
  },
  {
   "cell_type": "code",
   "execution_count": 207,
   "metadata": {
    "collapsed": true
   },
   "outputs": [],
   "source": [
    "eval_input_func  = tf.estimator.inputs.pandas_input_fn(x=X_test,y=y_test,\n",
    "                                                      batch_size=10,num_epochs=1,\n",
    "                                                      shuffle=False)"
   ]
  },
  {
   "cell_type": "code",
   "execution_count": 210,
   "metadata": {},
   "outputs": [
    {
     "name": "stdout",
     "output_type": "stream",
     "text": [
      "INFO:tensorflow:Starting evaluation at 2018-07-28-17:55:31\n",
      "INFO:tensorflow:Restoring parameters from C:\\Users\\karab\\AppData\\Local\\Temp\\tmpp6p5865l\\model.ckpt-30000\n",
      "INFO:tensorflow:Finished evaluation at 2018-07-28-17:55:32\n",
      "INFO:tensorflow:Saving dict for global step 30000: average_loss = 3.23548e+09, global_step = 30000, loss = 3.22077e+10\n"
     ]
    },
    {
     "data": {
      "text/plain": [
       "{'average_loss': 3.2354752e+09, 'global_step': 30000, 'loss': 3.2207686e+10}"
      ]
     },
     "execution_count": 210,
     "metadata": {},
     "output_type": "execute_result"
    }
   ],
   "source": [
    "linear_model.evaluate(eval_input_func)"
   ]
  },
  {
   "cell_type": "code",
   "execution_count": 224,
   "metadata": {
    "collapsed": true
   },
   "outputs": [],
   "source": [
    "predict = test[cols_to_feature]"
   ]
  },
  {
   "cell_type": "code",
   "execution_count": 225,
   "metadata": {},
   "outputs": [
    {
     "name": "stderr",
     "output_type": "stream",
     "text": [
      "C:\\Users\\karab\\Anaconda3\\envs\\tfdeeplearning\\lib\\site-packages\\pandas\\core\\generic.py:3110: SettingWithCopyWarning: \n",
      "A value is trying to be set on a copy of a slice from a DataFrame.\n",
      "Try using .loc[row_indexer,col_indexer] = value instead\n",
      "\n",
      "See the caveats in the documentation: http://pandas.pydata.org/pandas-docs/stable/indexing.html#indexing-view-versus-copy\n",
      "  self[name] = value\n"
     ]
    }
   ],
   "source": [
    "predict.FullBath = predict.FullBath.astype(str)\n",
    "predict.GarageCars = predict.GarageCars.astype(str)\n",
    "predict.OverallQual = predict.OverallQual.astype(str)\n",
    "predict.TotRmsAbvGrd = predict.TotRmsAbvGrd.astype(str)"
   ]
  },
  {
   "cell_type": "code",
   "execution_count": 226,
   "metadata": {},
   "outputs": [
    {
     "data": {
      "text/html": [
       "<div>\n",
       "<style>\n",
       "    .dataframe thead tr:only-child th {\n",
       "        text-align: right;\n",
       "    }\n",
       "\n",
       "    .dataframe thead th {\n",
       "        text-align: left;\n",
       "    }\n",
       "\n",
       "    .dataframe tbody tr th {\n",
       "        vertical-align: top;\n",
       "    }\n",
       "</style>\n",
       "<table border=\"1\" class=\"dataframe\">\n",
       "  <thead>\n",
       "    <tr style=\"text-align: right;\">\n",
       "      <th></th>\n",
       "      <th>OverallQual</th>\n",
       "      <th>GrLivArea</th>\n",
       "      <th>GarageCars</th>\n",
       "      <th>TotalBsmtSF</th>\n",
       "      <th>FullBath</th>\n",
       "      <th>TotRmsAbvGrd</th>\n",
       "      <th>YearBuilt</th>\n",
       "    </tr>\n",
       "  </thead>\n",
       "  <tbody>\n",
       "    <tr>\n",
       "      <th>0</th>\n",
       "      <td>5</td>\n",
       "      <td>896</td>\n",
       "      <td>1.0</td>\n",
       "      <td>882.0</td>\n",
       "      <td>1</td>\n",
       "      <td>5</td>\n",
       "      <td>1961</td>\n",
       "    </tr>\n",
       "    <tr>\n",
       "      <th>1</th>\n",
       "      <td>6</td>\n",
       "      <td>1329</td>\n",
       "      <td>1.0</td>\n",
       "      <td>1329.0</td>\n",
       "      <td>1</td>\n",
       "      <td>6</td>\n",
       "      <td>1958</td>\n",
       "    </tr>\n",
       "    <tr>\n",
       "      <th>2</th>\n",
       "      <td>5</td>\n",
       "      <td>1629</td>\n",
       "      <td>2.0</td>\n",
       "      <td>928.0</td>\n",
       "      <td>2</td>\n",
       "      <td>6</td>\n",
       "      <td>1997</td>\n",
       "    </tr>\n",
       "    <tr>\n",
       "      <th>3</th>\n",
       "      <td>6</td>\n",
       "      <td>1604</td>\n",
       "      <td>2.0</td>\n",
       "      <td>926.0</td>\n",
       "      <td>2</td>\n",
       "      <td>7</td>\n",
       "      <td>1998</td>\n",
       "    </tr>\n",
       "    <tr>\n",
       "      <th>4</th>\n",
       "      <td>8</td>\n",
       "      <td>1280</td>\n",
       "      <td>2.0</td>\n",
       "      <td>1280.0</td>\n",
       "      <td>2</td>\n",
       "      <td>5</td>\n",
       "      <td>1992</td>\n",
       "    </tr>\n",
       "  </tbody>\n",
       "</table>\n",
       "</div>"
      ],
      "text/plain": [
       "  OverallQual  GrLivArea GarageCars  TotalBsmtSF FullBath TotRmsAbvGrd  \\\n",
       "0           5        896        1.0        882.0        1            5   \n",
       "1           6       1329        1.0       1329.0        1            6   \n",
       "2           5       1629        2.0        928.0        2            6   \n",
       "3           6       1604        2.0        926.0        2            7   \n",
       "4           8       1280        2.0       1280.0        2            5   \n",
       "\n",
       "   YearBuilt  \n",
       "0       1961  \n",
       "1       1958  \n",
       "2       1997  \n",
       "3       1998  \n",
       "4       1992  "
      ]
     },
     "execution_count": 226,
     "metadata": {},
     "output_type": "execute_result"
    }
   ],
   "source": [
    "predict.head()"
   ]
  },
  {
   "cell_type": "code",
   "execution_count": 227,
   "metadata": {
    "collapsed": true
   },
   "outputs": [],
   "source": [
    "pred_input_func = tf.estimator.inputs.pandas_input_fn(x=predict,\n",
    "                                                      batch_size=10,num_epochs=1,\n",
    "                                                      shuffle=False)"
   ]
  },
  {
   "cell_type": "code",
   "execution_count": 233,
   "metadata": {},
   "outputs": [],
   "source": [
    "pred = linear_model.predict(pred_input_func)"
   ]
  },
  {
   "cell_type": "code",
   "execution_count": 234,
   "metadata": {},
   "outputs": [
    {
     "name": "stdout",
     "output_type": "stream",
     "text": [
      "INFO:tensorflow:Restoring parameters from C:\\Users\\karab\\AppData\\Local\\Temp\\tmpp6p5865l\\model.ckpt-30000\n"
     ]
    }
   ],
   "source": [
    "to_export =[]\n",
    "\n",
    "for i in pred:\n",
    "    to_export.append(i['predictions'][0])"
   ]
  },
  {
   "cell_type": "code",
   "execution_count": 246,
   "metadata": {},
   "outputs": [
    {
     "data": {
      "text/plain": [
       "1459"
      ]
     },
     "execution_count": 246,
     "metadata": {},
     "output_type": "execute_result"
    }
   ],
   "source": [
    "len(to_export)"
   ]
  },
  {
   "cell_type": "code",
   "execution_count": 256,
   "metadata": {
    "collapsed": true
   },
   "outputs": [],
   "source": [
    "export_table = pd.DataFrame()"
   ]
  },
  {
   "cell_type": "code",
   "execution_count": 257,
   "metadata": {},
   "outputs": [],
   "source": [
    "export_table['Id'] = range(1461,1461+1459)"
   ]
  },
  {
   "cell_type": "code",
   "execution_count": 258,
   "metadata": {},
   "outputs": [],
   "source": [
    "export_table['SalePrice'] = to_export"
   ]
  },
  {
   "cell_type": "code",
   "execution_count": 259,
   "metadata": {},
   "outputs": [
    {
     "data": {
      "text/plain": [
       "1459"
      ]
     },
     "execution_count": 259,
     "metadata": {},
     "output_type": "execute_result"
    }
   ],
   "source": [
    "pd.expo"
   ]
  },
  {
   "cell_type": "code",
   "execution_count": null,
   "metadata": {
    "collapsed": true
   },
   "outputs": [],
   "source": []
  }
 ],
 "metadata": {
  "kernelspec": {
   "display_name": "Python 3",
   "language": "python",
   "name": "python3"
  },
  "language_info": {
   "codemirror_mode": {
    "name": "ipython",
    "version": 3
   },
   "file_extension": ".py",
   "mimetype": "text/x-python",
   "name": "python",
   "nbconvert_exporter": "python",
   "pygments_lexer": "ipython3",
   "version": "3.5.4"
  }
 },
 "nbformat": 4,
 "nbformat_minor": 2
}
